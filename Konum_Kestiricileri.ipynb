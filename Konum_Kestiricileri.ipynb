{
  "nbformat": 4,
  "nbformat_minor": 0,
  "metadata": {
    "colab": {
      "name": "Konum Kestiricileri.ipynb",
      "provenance": [],
      "collapsed_sections": []
    },
    "kernelspec": {
      "name": "python3",
      "display_name": "Python 3"
    },
    "language_info": {
      "name": "python"
    }
  },
  "cells": [
    {
      "cell_type": "code",
      "execution_count": 51,
      "metadata": {
        "id": "zKi5UlhvpTIw"
      },
      "outputs": [],
      "source": [
        "import numpy as np\n",
        "import pandas as pd\n",
        "from scipy import stats\n",
        "from numpy import random"
      ]
    },
    {
      "cell_type": "code",
      "source": [
        "for i in range(30):\n",
        "    veri = random.normal(loc=0, scale=1)\n",
        "    print(veri)"
      ],
      "metadata": {
        "id": "khXu7U2Qpbta"
      },
      "execution_count": null,
      "outputs": []
    },
    {
      "cell_type": "code",
      "source": [
        "## ortalaması 0, standart sapması 1 olan 30 adet veri ürettik\n",
        "veri = random.normal(loc=0, scale=1, size=30)\n",
        "veri"
      ],
      "metadata": {
        "id": "uhKpv1lvpkXa",
        "colab": {
          "base_uri": "https://localhost:8080/"
        },
        "outputId": "44acf997-3c0b-4231-fb19-d2836b978c8d"
      },
      "execution_count": 162,
      "outputs": [
        {
          "output_type": "execute_result",
          "data": {
            "text/plain": [
              "array([ 0.22693227,  0.17409872,  0.32761306,  1.17860006,  1.18050938,\n",
              "        1.53244615,  0.28843244, -1.76247762, -1.36962976, -0.78442794,\n",
              "       -0.74535538,  0.59044576, -0.71079697,  0.39312999, -0.01177649,\n",
              "        0.25604369, -0.01714393,  0.08088308,  0.55627378, -0.13794   ,\n",
              "        1.24201741, -0.18035671,  0.85582009, -0.82375446, -0.03666674,\n",
              "        0.63289625,  0.00478881, -2.03273453, -0.8174242 ,  1.05211306])"
            ]
          },
          "metadata": {},
          "execution_count": 162
        }
      ]
    },
    {
      "cell_type": "code",
      "source": [
        "aykırı_degerler = [5,22] "
      ],
      "metadata": {
        "id": "eTy2NKoaqS4A"
      },
      "execution_count": 88,
      "outputs": []
    },
    {
      "cell_type": "code",
      "source": [
        "aykırı_degerler_np = np.array(aykırı_degerler)"
      ],
      "metadata": {
        "id": "IT04Thx7rOgL"
      },
      "execution_count": 89,
      "outputs": []
    },
    {
      "cell_type": "code",
      "source": [
        "## satır boyunca birleştirme yapıldı\n",
        "## concatenate komutu ile de birleştirme yapılabilir.\n",
        "# aykırı değer bulunduran veri kümesi\n",
        "aykiri = np.hstack((veri,aykırı_degerler_np))"
      ],
      "metadata": {
        "id": "SVTs1Fpvr_U2"
      },
      "execution_count": 90,
      "outputs": []
    },
    {
      "cell_type": "code",
      "source": [
        "aykiri"
      ],
      "metadata": {
        "colab": {
          "base_uri": "https://localhost:8080/"
        },
        "id": "3Ve4rnyDsD0m",
        "outputId": "48dc4e32-ffe0-425b-f0d9-23423a4609e4"
      },
      "execution_count": 91,
      "outputs": [
        {
          "output_type": "execute_result",
          "data": {
            "text/plain": [
              "array([-0.48798267, -0.92446845,  1.23405567, -1.54989612,  0.75656341,\n",
              "       -0.9276027 ,  0.09951093, -1.49163437, -1.02681441,  0.37626649,\n",
              "        0.58150276,  0.69295655,  1.16071451,  1.49708435,  0.53158002,\n",
              "        0.48460114,  0.60246452,  0.35324697, -1.10584112, -1.26112983,\n",
              "        1.97168397, -0.14732788, -0.2540527 , -0.65287303, -0.12305492,\n",
              "       -0.95918538, -1.89764672, -0.30540646, -0.09437338, -0.54508775,\n",
              "        5.        , 22.        ])"
            ]
          },
          "metadata": {},
          "execution_count": 91
        }
      ]
    },
    {
      "cell_type": "markdown",
      "source": [
        "**Orijinal ve Aykırı Veri Kümelerinde Ortalama ve Medyan Hesabı**"
      ],
      "metadata": {
        "id": "LTfLN33fRMTG"
      }
    },
    {
      "cell_type": "code",
      "source": [
        "veri_ortanca = np.median(veri)\n",
        "aykiri_ortanca = np.median(aykiri)\n",
        "kolon4 = (veri_ortanca,aykiri_ortanca)"
      ],
      "metadata": {
        "id": "HJNTn8gwwvs6"
      },
      "execution_count": 94,
      "outputs": []
    },
    {
      "cell_type": "code",
      "source": [
        "veri_ortalama = veri.mean()\n",
        "aykiri_ortalama = aykiri.mean()\n",
        "kolon3 = (veri_ortalama,aykiri_ortalama)"
      ],
      "metadata": {
        "id": "1BaS_8UgwTQV"
      },
      "execution_count": 164,
      "outputs": []
    },
    {
      "cell_type": "code",
      "source": [
        "## Verinin orijinal halinin ortanca ve ortalaması hesaplanmıştır.\n",
        "## Ardından aykırı değer eklenmiş halinin ortanca ve ortalaması hesaplanmıştır.\n",
        "## Buradan aykırı değerlerin ortancayı ortalamaya göre çok daha az etkilediği yorumu yapılabilir.\n",
        "veri_df2 = pd.DataFrame(kolon3, columns=[\"Ortalama\"], index=[\"Orijinal\",\"Aykırı\"])\n",
        "veri_df2[\"Medyan\"]= kolon4\n",
        "veri_df2"
      ],
      "metadata": {
        "id": "0e_BCrMawwzJ",
        "colab": {
          "base_uri": "https://localhost:8080/",
          "height": 112
        },
        "outputId": "602a5245-245c-4966-a493-99c5b8fa1684"
      },
      "execution_count": 166,
      "outputs": [
        {
          "output_type": "execute_result",
          "data": {
            "text/plain": [
              "          Ortalama    Medyan\n",
              "Orijinal  0.038085 -0.135191\n",
              "Aykırı    0.737120 -0.108714"
            ],
            "text/html": [
              "\n",
              "  <div id=\"df-944f86ba-c3d7-4010-b78f-3c609439787d\">\n",
              "    <div class=\"colab-df-container\">\n",
              "      <div>\n",
              "<style scoped>\n",
              "    .dataframe tbody tr th:only-of-type {\n",
              "        vertical-align: middle;\n",
              "    }\n",
              "\n",
              "    .dataframe tbody tr th {\n",
              "        vertical-align: top;\n",
              "    }\n",
              "\n",
              "    .dataframe thead th {\n",
              "        text-align: right;\n",
              "    }\n",
              "</style>\n",
              "<table border=\"1\" class=\"dataframe\">\n",
              "  <thead>\n",
              "    <tr style=\"text-align: right;\">\n",
              "      <th></th>\n",
              "      <th>Ortalama</th>\n",
              "      <th>Medyan</th>\n",
              "    </tr>\n",
              "  </thead>\n",
              "  <tbody>\n",
              "    <tr>\n",
              "      <th>Orijinal</th>\n",
              "      <td>0.038085</td>\n",
              "      <td>-0.135191</td>\n",
              "    </tr>\n",
              "    <tr>\n",
              "      <th>Aykırı</th>\n",
              "      <td>0.737120</td>\n",
              "      <td>-0.108714</td>\n",
              "    </tr>\n",
              "  </tbody>\n",
              "</table>\n",
              "</div>\n",
              "      <button class=\"colab-df-convert\" onclick=\"convertToInteractive('df-944f86ba-c3d7-4010-b78f-3c609439787d')\"\n",
              "              title=\"Convert this dataframe to an interactive table.\"\n",
              "              style=\"display:none;\">\n",
              "        \n",
              "  <svg xmlns=\"http://www.w3.org/2000/svg\" height=\"24px\"viewBox=\"0 0 24 24\"\n",
              "       width=\"24px\">\n",
              "    <path d=\"M0 0h24v24H0V0z\" fill=\"none\"/>\n",
              "    <path d=\"M18.56 5.44l.94 2.06.94-2.06 2.06-.94-2.06-.94-.94-2.06-.94 2.06-2.06.94zm-11 1L8.5 8.5l.94-2.06 2.06-.94-2.06-.94L8.5 2.5l-.94 2.06-2.06.94zm10 10l.94 2.06.94-2.06 2.06-.94-2.06-.94-.94-2.06-.94 2.06-2.06.94z\"/><path d=\"M17.41 7.96l-1.37-1.37c-.4-.4-.92-.59-1.43-.59-.52 0-1.04.2-1.43.59L10.3 9.45l-7.72 7.72c-.78.78-.78 2.05 0 2.83L4 21.41c.39.39.9.59 1.41.59.51 0 1.02-.2 1.41-.59l7.78-7.78 2.81-2.81c.8-.78.8-2.07 0-2.86zM5.41 20L4 18.59l7.72-7.72 1.47 1.35L5.41 20z\"/>\n",
              "  </svg>\n",
              "      </button>\n",
              "      \n",
              "  <style>\n",
              "    .colab-df-container {\n",
              "      display:flex;\n",
              "      flex-wrap:wrap;\n",
              "      gap: 12px;\n",
              "    }\n",
              "\n",
              "    .colab-df-convert {\n",
              "      background-color: #E8F0FE;\n",
              "      border: none;\n",
              "      border-radius: 50%;\n",
              "      cursor: pointer;\n",
              "      display: none;\n",
              "      fill: #1967D2;\n",
              "      height: 32px;\n",
              "      padding: 0 0 0 0;\n",
              "      width: 32px;\n",
              "    }\n",
              "\n",
              "    .colab-df-convert:hover {\n",
              "      background-color: #E2EBFA;\n",
              "      box-shadow: 0px 1px 2px rgba(60, 64, 67, 0.3), 0px 1px 3px 1px rgba(60, 64, 67, 0.15);\n",
              "      fill: #174EA6;\n",
              "    }\n",
              "\n",
              "    [theme=dark] .colab-df-convert {\n",
              "      background-color: #3B4455;\n",
              "      fill: #D2E3FC;\n",
              "    }\n",
              "\n",
              "    [theme=dark] .colab-df-convert:hover {\n",
              "      background-color: #434B5C;\n",
              "      box-shadow: 0px 1px 3px 1px rgba(0, 0, 0, 0.15);\n",
              "      filter: drop-shadow(0px 1px 2px rgba(0, 0, 0, 0.3));\n",
              "      fill: #FFFFFF;\n",
              "    }\n",
              "  </style>\n",
              "\n",
              "      <script>\n",
              "        const buttonEl =\n",
              "          document.querySelector('#df-944f86ba-c3d7-4010-b78f-3c609439787d button.colab-df-convert');\n",
              "        buttonEl.style.display =\n",
              "          google.colab.kernel.accessAllowed ? 'block' : 'none';\n",
              "\n",
              "        async function convertToInteractive(key) {\n",
              "          const element = document.querySelector('#df-944f86ba-c3d7-4010-b78f-3c609439787d');\n",
              "          const dataTable =\n",
              "            await google.colab.kernel.invokeFunction('convertToInteractive',\n",
              "                                                     [key], {});\n",
              "          if (!dataTable) return;\n",
              "\n",
              "          const docLinkHtml = 'Like what you see? Visit the ' +\n",
              "            '<a target=\"_blank\" href=https://colab.research.google.com/notebooks/data_table.ipynb>data table notebook</a>'\n",
              "            + ' to learn more about interactive tables.';\n",
              "          element.innerHTML = '';\n",
              "          dataTable['output_type'] = 'display_data';\n",
              "          await google.colab.output.renderOutput(dataTable, element);\n",
              "          const docLink = document.createElement('div');\n",
              "          docLink.innerHTML = docLinkHtml;\n",
              "          element.appendChild(docLink);\n",
              "        }\n",
              "      </script>\n",
              "    </div>\n",
              "  </div>\n",
              "  "
            ]
          },
          "metadata": {},
          "execution_count": 166
        }
      ]
    },
    {
      "cell_type": "markdown",
      "source": [
        "**Kesilmiş Ortalama Hesabı**"
      ],
      "metadata": {
        "id": "2k1hiBztRb7V"
      }
    },
    {
      "cell_type": "code",
      "source": [
        "## Kesilmiş ortalama hesabı:\n",
        "veri_kesilmis_ortalama1 = stats.tmean(veri)\n",
        "kolon5 = (veri_kesilmis_ortalama1)"
      ],
      "metadata": {
        "id": "Deb-RPdkOvWA"
      },
      "execution_count": 183,
      "outputs": []
    },
    {
      "cell_type": "code",
      "source": [
        "aykiri_kesilmis_ortalama1 = stats.tmean(aykiri)\n",
        "kolon6= (aykiri_kesilmis_ortalama1)"
      ],
      "metadata": {
        "id": "747kSUmVOve8"
      },
      "execution_count": 182,
      "outputs": []
    },
    {
      "cell_type": "code",
      "source": [
        "veri_df3 = pd.DataFrame(kolon5, columns=[\"Kesilmiş Ortalama Orijinal Veri\"], index=[0])\n",
        "veri_df3[\"Kesilmiş Ortalama Aykırı Veri\"] = kolon6\n",
        "veri_df3"
      ],
      "metadata": {
        "colab": {
          "base_uri": "https://localhost:8080/",
          "height": 81
        },
        "id": "ntp-AsIEOvni",
        "outputId": "d16de5ae-514e-4970-bc51-fd73fc592e01"
      },
      "execution_count": 184,
      "outputs": [
        {
          "output_type": "execute_result",
          "data": {
            "text/plain": [
              "   Kesilmiş Ortalama Orijinal Veri  Kesilmiş Ortalama Aykırı Veri\n",
              "0                         0.038085                        0.73712"
            ],
            "text/html": [
              "\n",
              "  <div id=\"df-a7a669f6-ed43-4111-8bce-1ac7df53001c\">\n",
              "    <div class=\"colab-df-container\">\n",
              "      <div>\n",
              "<style scoped>\n",
              "    .dataframe tbody tr th:only-of-type {\n",
              "        vertical-align: middle;\n",
              "    }\n",
              "\n",
              "    .dataframe tbody tr th {\n",
              "        vertical-align: top;\n",
              "    }\n",
              "\n",
              "    .dataframe thead th {\n",
              "        text-align: right;\n",
              "    }\n",
              "</style>\n",
              "<table border=\"1\" class=\"dataframe\">\n",
              "  <thead>\n",
              "    <tr style=\"text-align: right;\">\n",
              "      <th></th>\n",
              "      <th>Kesilmiş Ortalama Orijinal Veri</th>\n",
              "      <th>Kesilmiş Ortalama Aykırı Veri</th>\n",
              "    </tr>\n",
              "  </thead>\n",
              "  <tbody>\n",
              "    <tr>\n",
              "      <th>0</th>\n",
              "      <td>0.038085</td>\n",
              "      <td>0.73712</td>\n",
              "    </tr>\n",
              "  </tbody>\n",
              "</table>\n",
              "</div>\n",
              "      <button class=\"colab-df-convert\" onclick=\"convertToInteractive('df-a7a669f6-ed43-4111-8bce-1ac7df53001c')\"\n",
              "              title=\"Convert this dataframe to an interactive table.\"\n",
              "              style=\"display:none;\">\n",
              "        \n",
              "  <svg xmlns=\"http://www.w3.org/2000/svg\" height=\"24px\"viewBox=\"0 0 24 24\"\n",
              "       width=\"24px\">\n",
              "    <path d=\"M0 0h24v24H0V0z\" fill=\"none\"/>\n",
              "    <path d=\"M18.56 5.44l.94 2.06.94-2.06 2.06-.94-2.06-.94-.94-2.06-.94 2.06-2.06.94zm-11 1L8.5 8.5l.94-2.06 2.06-.94-2.06-.94L8.5 2.5l-.94 2.06-2.06.94zm10 10l.94 2.06.94-2.06 2.06-.94-2.06-.94-.94-2.06-.94 2.06-2.06.94z\"/><path d=\"M17.41 7.96l-1.37-1.37c-.4-.4-.92-.59-1.43-.59-.52 0-1.04.2-1.43.59L10.3 9.45l-7.72 7.72c-.78.78-.78 2.05 0 2.83L4 21.41c.39.39.9.59 1.41.59.51 0 1.02-.2 1.41-.59l7.78-7.78 2.81-2.81c.8-.78.8-2.07 0-2.86zM5.41 20L4 18.59l7.72-7.72 1.47 1.35L5.41 20z\"/>\n",
              "  </svg>\n",
              "      </button>\n",
              "      \n",
              "  <style>\n",
              "    .colab-df-container {\n",
              "      display:flex;\n",
              "      flex-wrap:wrap;\n",
              "      gap: 12px;\n",
              "    }\n",
              "\n",
              "    .colab-df-convert {\n",
              "      background-color: #E8F0FE;\n",
              "      border: none;\n",
              "      border-radius: 50%;\n",
              "      cursor: pointer;\n",
              "      display: none;\n",
              "      fill: #1967D2;\n",
              "      height: 32px;\n",
              "      padding: 0 0 0 0;\n",
              "      width: 32px;\n",
              "    }\n",
              "\n",
              "    .colab-df-convert:hover {\n",
              "      background-color: #E2EBFA;\n",
              "      box-shadow: 0px 1px 2px rgba(60, 64, 67, 0.3), 0px 1px 3px 1px rgba(60, 64, 67, 0.15);\n",
              "      fill: #174EA6;\n",
              "    }\n",
              "\n",
              "    [theme=dark] .colab-df-convert {\n",
              "      background-color: #3B4455;\n",
              "      fill: #D2E3FC;\n",
              "    }\n",
              "\n",
              "    [theme=dark] .colab-df-convert:hover {\n",
              "      background-color: #434B5C;\n",
              "      box-shadow: 0px 1px 3px 1px rgba(0, 0, 0, 0.15);\n",
              "      filter: drop-shadow(0px 1px 2px rgba(0, 0, 0, 0.3));\n",
              "      fill: #FFFFFF;\n",
              "    }\n",
              "  </style>\n",
              "\n",
              "      <script>\n",
              "        const buttonEl =\n",
              "          document.querySelector('#df-a7a669f6-ed43-4111-8bce-1ac7df53001c button.colab-df-convert');\n",
              "        buttonEl.style.display =\n",
              "          google.colab.kernel.accessAllowed ? 'block' : 'none';\n",
              "\n",
              "        async function convertToInteractive(key) {\n",
              "          const element = document.querySelector('#df-a7a669f6-ed43-4111-8bce-1ac7df53001c');\n",
              "          const dataTable =\n",
              "            await google.colab.kernel.invokeFunction('convertToInteractive',\n",
              "                                                     [key], {});\n",
              "          if (!dataTable) return;\n",
              "\n",
              "          const docLinkHtml = 'Like what you see? Visit the ' +\n",
              "            '<a target=\"_blank\" href=https://colab.research.google.com/notebooks/data_table.ipynb>data table notebook</a>'\n",
              "            + ' to learn more about interactive tables.';\n",
              "          element.innerHTML = '';\n",
              "          dataTable['output_type'] = 'display_data';\n",
              "          await google.colab.output.renderOutput(dataTable, element);\n",
              "          const docLink = document.createElement('div');\n",
              "          docLink.innerHTML = docLinkHtml;\n",
              "          element.appendChild(docLink);\n",
              "        }\n",
              "      </script>\n",
              "    </div>\n",
              "  </div>\n",
              "  "
            ]
          },
          "metadata": {},
          "execution_count": 184
        }
      ]
    },
    {
      "cell_type": "markdown",
      "source": [
        "**Her İki Kuyruktan Dağılım Kesilmesi- Trimmed**"
      ],
      "metadata": {
        "id": "6azWj6atRilM"
      }
    },
    {
      "cell_type": "code",
      "source": [
        "## Aşağıda hem orijinal veri kümesine hem de aykırı değer eklenen veri kümesine kesilmiş ortalama tahmin edicisi uygulanmıştır.\n",
        "# Trimmed\n",
        "trimmen_orijinal1 = stats.trim_mean(veri, 0.05)\n",
        "trimmen_orijinal2 = stats.trim_mean(veri, 0.1)\n",
        "trimmen_orijinal3 = stats.trim_mean(veri, 0.2)\n",
        "trimmen_orijinal4 = stats.trim_mean(veri, 0.25)"
      ],
      "metadata": {
        "id": "ZL6cVy0VsHkI"
      },
      "execution_count": 167,
      "outputs": []
    },
    {
      "cell_type": "code",
      "source": [
        "trimmen_aykiri1 = stats.trim_mean(aykiri, 0.05)\n",
        "trimmen_aykiri2 = stats.trim_mean(aykiri, 0.1)\n",
        "trimmen_aykiri3 = stats.trim_mean(aykiri, 0.2)\n",
        "trimmen_aykiri4 = stats.trim_mean(aykiri,0.25)"
      ],
      "metadata": {
        "id": "3bjBUxjwvdzU"
      },
      "execution_count": 168,
      "outputs": []
    },
    {
      "cell_type": "code",
      "source": [
        "kolon1 = (trimmen_orijinal1,trimmen_orijinal2,trimmen_orijinal3, trimmen_orijinal4)\n",
        "kolon2 = (trimmen_aykiri1,trimmen_aykiri2,trimmen_aykiri3, trimmen_aykiri4)\n",
        "veri_df = pd.DataFrame(kolon1, columns=[\"Trimmed_Orijinal\"], index=[0.05,0.1,0.2,0.25])\n",
        "veri_df[\"Trimmed_Aykiri\"] = kolon2"
      ],
      "metadata": {
        "id": "Jhv9dTx4wGbZ"
      },
      "execution_count": 186,
      "outputs": []
    },
    {
      "cell_type": "code",
      "source": [
        "veri_df"
      ],
      "metadata": {
        "colab": {
          "base_uri": "https://localhost:8080/",
          "height": 175
        },
        "id": "QWfUeDC9zy4L",
        "outputId": "632cef5a-3dc7-48c7-9f24-ae60b2b81063"
      },
      "execution_count": 187,
      "outputs": [
        {
          "output_type": "execute_result",
          "data": {
            "text/plain": [
              "      Trimmed_Orijinal  Trimmed_Aykiri\n",
              "0.05          0.058673        0.116183\n",
              "0.10          0.098018       -0.017102\n",
              "0.20          0.093972       -0.047136\n",
              "0.25          0.112748       -0.031591"
            ],
            "text/html": [
              "\n",
              "  <div id=\"df-44b0e168-98c0-4b67-934c-6803d7c65735\">\n",
              "    <div class=\"colab-df-container\">\n",
              "      <div>\n",
              "<style scoped>\n",
              "    .dataframe tbody tr th:only-of-type {\n",
              "        vertical-align: middle;\n",
              "    }\n",
              "\n",
              "    .dataframe tbody tr th {\n",
              "        vertical-align: top;\n",
              "    }\n",
              "\n",
              "    .dataframe thead th {\n",
              "        text-align: right;\n",
              "    }\n",
              "</style>\n",
              "<table border=\"1\" class=\"dataframe\">\n",
              "  <thead>\n",
              "    <tr style=\"text-align: right;\">\n",
              "      <th></th>\n",
              "      <th>Trimmed_Orijinal</th>\n",
              "      <th>Trimmed_Aykiri</th>\n",
              "    </tr>\n",
              "  </thead>\n",
              "  <tbody>\n",
              "    <tr>\n",
              "      <th>0.05</th>\n",
              "      <td>0.058673</td>\n",
              "      <td>0.116183</td>\n",
              "    </tr>\n",
              "    <tr>\n",
              "      <th>0.10</th>\n",
              "      <td>0.098018</td>\n",
              "      <td>-0.017102</td>\n",
              "    </tr>\n",
              "    <tr>\n",
              "      <th>0.20</th>\n",
              "      <td>0.093972</td>\n",
              "      <td>-0.047136</td>\n",
              "    </tr>\n",
              "    <tr>\n",
              "      <th>0.25</th>\n",
              "      <td>0.112748</td>\n",
              "      <td>-0.031591</td>\n",
              "    </tr>\n",
              "  </tbody>\n",
              "</table>\n",
              "</div>\n",
              "      <button class=\"colab-df-convert\" onclick=\"convertToInteractive('df-44b0e168-98c0-4b67-934c-6803d7c65735')\"\n",
              "              title=\"Convert this dataframe to an interactive table.\"\n",
              "              style=\"display:none;\">\n",
              "        \n",
              "  <svg xmlns=\"http://www.w3.org/2000/svg\" height=\"24px\"viewBox=\"0 0 24 24\"\n",
              "       width=\"24px\">\n",
              "    <path d=\"M0 0h24v24H0V0z\" fill=\"none\"/>\n",
              "    <path d=\"M18.56 5.44l.94 2.06.94-2.06 2.06-.94-2.06-.94-.94-2.06-.94 2.06-2.06.94zm-11 1L8.5 8.5l.94-2.06 2.06-.94-2.06-.94L8.5 2.5l-.94 2.06-2.06.94zm10 10l.94 2.06.94-2.06 2.06-.94-2.06-.94-.94-2.06-.94 2.06-2.06.94z\"/><path d=\"M17.41 7.96l-1.37-1.37c-.4-.4-.92-.59-1.43-.59-.52 0-1.04.2-1.43.59L10.3 9.45l-7.72 7.72c-.78.78-.78 2.05 0 2.83L4 21.41c.39.39.9.59 1.41.59.51 0 1.02-.2 1.41-.59l7.78-7.78 2.81-2.81c.8-.78.8-2.07 0-2.86zM5.41 20L4 18.59l7.72-7.72 1.47 1.35L5.41 20z\"/>\n",
              "  </svg>\n",
              "      </button>\n",
              "      \n",
              "  <style>\n",
              "    .colab-df-container {\n",
              "      display:flex;\n",
              "      flex-wrap:wrap;\n",
              "      gap: 12px;\n",
              "    }\n",
              "\n",
              "    .colab-df-convert {\n",
              "      background-color: #E8F0FE;\n",
              "      border: none;\n",
              "      border-radius: 50%;\n",
              "      cursor: pointer;\n",
              "      display: none;\n",
              "      fill: #1967D2;\n",
              "      height: 32px;\n",
              "      padding: 0 0 0 0;\n",
              "      width: 32px;\n",
              "    }\n",
              "\n",
              "    .colab-df-convert:hover {\n",
              "      background-color: #E2EBFA;\n",
              "      box-shadow: 0px 1px 2px rgba(60, 64, 67, 0.3), 0px 1px 3px 1px rgba(60, 64, 67, 0.15);\n",
              "      fill: #174EA6;\n",
              "    }\n",
              "\n",
              "    [theme=dark] .colab-df-convert {\n",
              "      background-color: #3B4455;\n",
              "      fill: #D2E3FC;\n",
              "    }\n",
              "\n",
              "    [theme=dark] .colab-df-convert:hover {\n",
              "      background-color: #434B5C;\n",
              "      box-shadow: 0px 1px 3px 1px rgba(0, 0, 0, 0.15);\n",
              "      filter: drop-shadow(0px 1px 2px rgba(0, 0, 0, 0.3));\n",
              "      fill: #FFFFFF;\n",
              "    }\n",
              "  </style>\n",
              "\n",
              "      <script>\n",
              "        const buttonEl =\n",
              "          document.querySelector('#df-44b0e168-98c0-4b67-934c-6803d7c65735 button.colab-df-convert');\n",
              "        buttonEl.style.display =\n",
              "          google.colab.kernel.accessAllowed ? 'block' : 'none';\n",
              "\n",
              "        async function convertToInteractive(key) {\n",
              "          const element = document.querySelector('#df-44b0e168-98c0-4b67-934c-6803d7c65735');\n",
              "          const dataTable =\n",
              "            await google.colab.kernel.invokeFunction('convertToInteractive',\n",
              "                                                     [key], {});\n",
              "          if (!dataTable) return;\n",
              "\n",
              "          const docLinkHtml = 'Like what you see? Visit the ' +\n",
              "            '<a target=\"_blank\" href=https://colab.research.google.com/notebooks/data_table.ipynb>data table notebook</a>'\n",
              "            + ' to learn more about interactive tables.';\n",
              "          element.innerHTML = '';\n",
              "          dataTable['output_type'] = 'display_data';\n",
              "          await google.colab.output.renderOutput(dataTable, element);\n",
              "          const docLink = document.createElement('div');\n",
              "          docLink.innerHTML = docLinkHtml;\n",
              "          element.appendChild(docLink);\n",
              "        }\n",
              "      </script>\n",
              "    </div>\n",
              "  </div>\n",
              "  "
            ]
          },
          "metadata": {},
          "execution_count": 187
        }
      ]
    },
    {
      "cell_type": "markdown",
      "source": [
        "**Broadened Medyan-BMED**"
      ],
      "metadata": {
        "id": "8MKo68DlSORZ"
      }
    },
    {
      "cell_type": "code",
      "source": [
        "## B-med\n",
        "# n >= 13 ve n-çift\n",
        "## median = -0.10"
      ],
      "metadata": {
        "id": "6usTli-azy_o"
      },
      "execution_count": 105,
      "outputs": []
    },
    {
      "cell_type": "code",
      "source": [
        "aykiri.sort()"
      ],
      "metadata": {
        "id": "4mcuwIVCzzKp"
      },
      "execution_count": 107,
      "outputs": []
    },
    {
      "cell_type": "code",
      "source": [
        "aykiri"
      ],
      "metadata": {
        "colab": {
          "base_uri": "https://localhost:8080/"
        },
        "id": "BO97U78aFNG5",
        "outputId": "4a4c125c-10e7-4830-b569-9947fad1c32a"
      },
      "execution_count": 108,
      "outputs": [
        {
          "output_type": "execute_result",
          "data": {
            "text/plain": [
              "array([-1.89764672, -1.54989612, -1.49163437, -1.26112983, -1.10584112,\n",
              "       -1.02681441, -0.95918538, -0.9276027 , -0.92446845, -0.65287303,\n",
              "       -0.54508775, -0.48798267, -0.30540646, -0.2540527 , -0.14732788,\n",
              "       -0.12305492, -0.09437338,  0.09951093,  0.35324697,  0.37626649,\n",
              "        0.48460114,  0.53158002,  0.58150276,  0.60246452,  0.69295655,\n",
              "        0.75656341,  1.16071451,  1.23405567,  1.49708435,  1.97168397,\n",
              "        5.        , 22.        ])"
            ]
          },
          "metadata": {},
          "execution_count": 108
        }
      ]
    },
    {
      "cell_type": "code",
      "source": [
        "bmed= ((1/10) * (-0.254)) + (1/5*(-0.147 -0.123 -0.094 -0.099)) + ((1/10) * (0.353))"
      ],
      "metadata": {
        "id": "MyFhv9BiFsJ0"
      },
      "execution_count": 124,
      "outputs": []
    },
    {
      "cell_type": "code",
      "source": [
        "bmed"
      ],
      "metadata": {
        "colab": {
          "base_uri": "https://localhost:8080/"
        },
        "id": "4lGLkDeUKfHu",
        "outputId": "7a5efe14-c1b1-4eff-e9b4-fe1d61293e2f"
      },
      "execution_count": 125,
      "outputs": [
        {
          "output_type": "execute_result",
          "data": {
            "text/plain": [
              "-0.08270000000000001"
            ]
          },
          "metadata": {},
          "execution_count": 125
        }
      ]
    },
    {
      "cell_type": "code",
      "source": [
        "## diğer yol:\n",
        "0.5 - (2.5/30)"
      ],
      "metadata": {
        "colab": {
          "base_uri": "https://localhost:8080/"
        },
        "id": "LbjV6YIdLLbB",
        "outputId": "45f0b0ee-996e-4cfa-a9e9-9d80afb14d35"
      },
      "execution_count": 120,
      "outputs": [
        {
          "output_type": "execute_result",
          "data": {
            "text/plain": [
              "0.4166666666666667"
            ]
          },
          "metadata": {},
          "execution_count": 120
        }
      ]
    },
    {
      "cell_type": "code",
      "source": [
        "## %41.6\n",
        "# n. 0.416= \n",
        "30*0.416 \n",
        "# 12.47"
      ],
      "metadata": {
        "colab": {
          "base_uri": "https://localhost:8080/"
        },
        "id": "D1Hf9u8PLtHn",
        "outputId": "04cbea1d-0b25-4cc3-be4b-a74b22383bc8"
      },
      "execution_count": 121,
      "outputs": [
        {
          "output_type": "execute_result",
          "data": {
            "text/plain": [
              "12.479999999999999"
            ]
          },
          "metadata": {},
          "execution_count": 121
        }
      ]
    },
    {
      "cell_type": "markdown",
      "source": [
        "**Verilerin Medyan Mutlak Sapması**"
      ],
      "metadata": {
        "id": "D_FZWlg2Sg7B"
      }
    },
    {
      "cell_type": "code",
      "source": [
        "veri_medyan_sapma= stats.median_absolute_deviation(veri)\n",
        "aykiri_medyan_sapma = stats.median_absolute_deviation(aykiri)\n",
        "kolon7 = (veri_medyan_sapma)\n",
        "kolon8 = (aykiri_medyan_sapma)\n"
      ],
      "metadata": {
        "id": "at3qIBTZL6Rc"
      },
      "execution_count": 156,
      "outputs": []
    },
    {
      "cell_type": "code",
      "source": [
        "veri_df4 = pd.DataFrame(kolon7, columns=[\"Orijinal_Veri_Medyan_Sapma\"], index=[0])\n",
        "veri_df4[\"Aykiri_Veri_Medyan_Sapma\"] = kolon8"
      ],
      "metadata": {
        "id": "S0nDY2srMRLo"
      },
      "execution_count": 160,
      "outputs": []
    },
    {
      "cell_type": "code",
      "source": [
        "veri_df4"
      ],
      "metadata": {
        "colab": {
          "base_uri": "https://localhost:8080/",
          "height": 81
        },
        "id": "bWoNamoENTFk",
        "outputId": "65d78b54-3edd-4932-829b-2ad3904948ee"
      },
      "execution_count": 161,
      "outputs": [
        {
          "output_type": "execute_result",
          "data": {
            "text/plain": [
              "   Orijinal_Veri_Medyan_Sapma  Aykiri_Veri_Medyan_Sapma\n",
              "0                    1.131915                  1.198997"
            ],
            "text/html": [
              "\n",
              "  <div id=\"df-11013744-6b8e-4a1d-bc8b-5853b05266c9\">\n",
              "    <div class=\"colab-df-container\">\n",
              "      <div>\n",
              "<style scoped>\n",
              "    .dataframe tbody tr th:only-of-type {\n",
              "        vertical-align: middle;\n",
              "    }\n",
              "\n",
              "    .dataframe tbody tr th {\n",
              "        vertical-align: top;\n",
              "    }\n",
              "\n",
              "    .dataframe thead th {\n",
              "        text-align: right;\n",
              "    }\n",
              "</style>\n",
              "<table border=\"1\" class=\"dataframe\">\n",
              "  <thead>\n",
              "    <tr style=\"text-align: right;\">\n",
              "      <th></th>\n",
              "      <th>Orijinal_Veri_Medyan_Sapma</th>\n",
              "      <th>Aykiri_Veri_Medyan_Sapma</th>\n",
              "    </tr>\n",
              "  </thead>\n",
              "  <tbody>\n",
              "    <tr>\n",
              "      <th>0</th>\n",
              "      <td>1.131915</td>\n",
              "      <td>1.198997</td>\n",
              "    </tr>\n",
              "  </tbody>\n",
              "</table>\n",
              "</div>\n",
              "      <button class=\"colab-df-convert\" onclick=\"convertToInteractive('df-11013744-6b8e-4a1d-bc8b-5853b05266c9')\"\n",
              "              title=\"Convert this dataframe to an interactive table.\"\n",
              "              style=\"display:none;\">\n",
              "        \n",
              "  <svg xmlns=\"http://www.w3.org/2000/svg\" height=\"24px\"viewBox=\"0 0 24 24\"\n",
              "       width=\"24px\">\n",
              "    <path d=\"M0 0h24v24H0V0z\" fill=\"none\"/>\n",
              "    <path d=\"M18.56 5.44l.94 2.06.94-2.06 2.06-.94-2.06-.94-.94-2.06-.94 2.06-2.06.94zm-11 1L8.5 8.5l.94-2.06 2.06-.94-2.06-.94L8.5 2.5l-.94 2.06-2.06.94zm10 10l.94 2.06.94-2.06 2.06-.94-2.06-.94-.94-2.06-.94 2.06-2.06.94z\"/><path d=\"M17.41 7.96l-1.37-1.37c-.4-.4-.92-.59-1.43-.59-.52 0-1.04.2-1.43.59L10.3 9.45l-7.72 7.72c-.78.78-.78 2.05 0 2.83L4 21.41c.39.39.9.59 1.41.59.51 0 1.02-.2 1.41-.59l7.78-7.78 2.81-2.81c.8-.78.8-2.07 0-2.86zM5.41 20L4 18.59l7.72-7.72 1.47 1.35L5.41 20z\"/>\n",
              "  </svg>\n",
              "      </button>\n",
              "      \n",
              "  <style>\n",
              "    .colab-df-container {\n",
              "      display:flex;\n",
              "      flex-wrap:wrap;\n",
              "      gap: 12px;\n",
              "    }\n",
              "\n",
              "    .colab-df-convert {\n",
              "      background-color: #E8F0FE;\n",
              "      border: none;\n",
              "      border-radius: 50%;\n",
              "      cursor: pointer;\n",
              "      display: none;\n",
              "      fill: #1967D2;\n",
              "      height: 32px;\n",
              "      padding: 0 0 0 0;\n",
              "      width: 32px;\n",
              "    }\n",
              "\n",
              "    .colab-df-convert:hover {\n",
              "      background-color: #E2EBFA;\n",
              "      box-shadow: 0px 1px 2px rgba(60, 64, 67, 0.3), 0px 1px 3px 1px rgba(60, 64, 67, 0.15);\n",
              "      fill: #174EA6;\n",
              "    }\n",
              "\n",
              "    [theme=dark] .colab-df-convert {\n",
              "      background-color: #3B4455;\n",
              "      fill: #D2E3FC;\n",
              "    }\n",
              "\n",
              "    [theme=dark] .colab-df-convert:hover {\n",
              "      background-color: #434B5C;\n",
              "      box-shadow: 0px 1px 3px 1px rgba(0, 0, 0, 0.15);\n",
              "      filter: drop-shadow(0px 1px 2px rgba(0, 0, 0, 0.3));\n",
              "      fill: #FFFFFF;\n",
              "    }\n",
              "  </style>\n",
              "\n",
              "      <script>\n",
              "        const buttonEl =\n",
              "          document.querySelector('#df-11013744-6b8e-4a1d-bc8b-5853b05266c9 button.colab-df-convert');\n",
              "        buttonEl.style.display =\n",
              "          google.colab.kernel.accessAllowed ? 'block' : 'none';\n",
              "\n",
              "        async function convertToInteractive(key) {\n",
              "          const element = document.querySelector('#df-11013744-6b8e-4a1d-bc8b-5853b05266c9');\n",
              "          const dataTable =\n",
              "            await google.colab.kernel.invokeFunction('convertToInteractive',\n",
              "                                                     [key], {});\n",
              "          if (!dataTable) return;\n",
              "\n",
              "          const docLinkHtml = 'Like what you see? Visit the ' +\n",
              "            '<a target=\"_blank\" href=https://colab.research.google.com/notebooks/data_table.ipynb>data table notebook</a>'\n",
              "            + ' to learn more about interactive tables.';\n",
              "          element.innerHTML = '';\n",
              "          dataTable['output_type'] = 'display_data';\n",
              "          await google.colab.output.renderOutput(dataTable, element);\n",
              "          const docLink = document.createElement('div');\n",
              "          docLink.innerHTML = docLinkHtml;\n",
              "          element.appendChild(docLink);\n",
              "        }\n",
              "      </script>\n",
              "    </div>\n",
              "  </div>\n",
              "  "
            ]
          },
          "metadata": {},
          "execution_count": 161
        }
      ]
    },
    {
      "cell_type": "code",
      "source": [
        ""
      ],
      "metadata": {
        "id": "LLz5gQE_NZdX"
      },
      "execution_count": null,
      "outputs": []
    }
  ]
}